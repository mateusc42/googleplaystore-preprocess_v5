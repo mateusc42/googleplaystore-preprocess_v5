{
 "cells": [
  {
   "cell_type": "markdown",
   "metadata": {
    "_uuid": "60d871ec5472a13720f0c97574e9b984a8a7e876",
    "collapsed": false
   },
   "source": [
    "Pre-processamento da base de dados de apps do Google Play"
   ]
  },
  {
   "cell_type": "markdown",
   "metadata": {
    "_uuid": "d0a6597cc43a82ca038b8c94e91e6d505d53c4de",
    "collapsed": false
   },
   "source": [
    "Import das bibliotecas utilizadas"
   ]
  },
  {
   "cell_type": "code",
   "execution_count": 0,
   "metadata": {
    "_uuid": "48ef69dab4f55451698c785d24eb6bf719470843",
    "collapsed": false
   },
   "outputs": [
   ],
   "source": [
    "import pandas as pd\n",
    "import numpy as np\n",
    "from sklearn import metrics\n",
    "from sklearn import preprocessing\n",
    "from sklearn.preprocessing import MinMaxScaler\n",
    "from sklearn.neighbors import KNeighborsRegressor\n",
    "from sklearn.ensemble import RandomForestRegressor\n",
    "from sklearn.tree import DecisionTreeRegressor\n",
    "from sklearn.svm import SVR\n",
    "from sklearn.model_selection import KFold\n",
    "from sklearn.model_selection import GridSearchCV\n",
    "from sklearn.metrics import confusion_matrix\n",
    "import matplotlib.pyplot as plt"
   ]
  },
  {
   "cell_type": "code",
   "execution_count": 0,
   "metadata": {
    "_uuid": "c9ec97591babbd21f6dab17d551807d29379643d",
    "collapsed": false
   },
   "outputs": [
   ],
   "source": [
    "df = pd.read_csv('googleplaystore.csv')"
   ]
  },
  {
   "cell_type": "markdown",
   "metadata": {
    "_uuid": "e1071bc60ccc3976cbac289831ffc1a8218c4753",
    "collapsed": false
   },
   "source": [
    "Verificando as informações do DataFrame para entender os tipos dos atributos encontrar valores nulos, NaN e remove-los para que o uso dos algoritmos de IA seja possível."
   ]
  },
  {
   "cell_type": "code",
   "execution_count": 0,
   "metadata": {
    "_uuid": "dfd8fe4ea4f65433449740d97592745148e0c54a",
    "collapsed": false
   },
   "outputs": [
   ],
   "source": [
    "df.head()"
   ]
  },
  {
   "cell_type": "code",
   "execution_count": 0,
   "metadata": {
    "_uuid": "893585b310c8d8736bf45f0a001dee820ef7313f",
    "collapsed": false
   },
   "outputs": [
   ],
   "source": [
    "# Remover linhas com algum valor NaN\n",
    "\n",
    "df.dropna(inplace = True)"
   ]
  },
  {
   "cell_type": "markdown",
   "metadata": {
    "_uuid": "f2320a31566b0fb105b29c6dc2d19ea189f72e1e",
    "collapsed": false
   },
   "source": [
    "Apartir dessa limpeza inicial de valores NaN, podemos continuar.."
   ]
  },
  {
   "cell_type": "code",
   "execution_count": 0,
   "metadata": {
    "_uuid": "45645243a0d6dc01d9906715cb6cd03237f73311",
    "collapsed": false
   },
   "outputs": [
   ],
   "source": [
    "# # Limpeza da classificação de installs\n",
    "\n",
    "df['Installs'] = [int(i[:-1].replace(',','')) for i in df['Installs']]"
   ]
  },
  {
   "cell_type": "markdown",
   "metadata": {
    "_uuid": "0445d0c4ed04ec8d0b1f9aaae99b26d7e306e93a",
    "collapsed": false
   },
   "source": [
    "Convertendo os tipos de classificação do atributo que define o método de pagamento em binário"
   ]
  },
  {
   "cell_type": "code",
   "execution_count": 0,
   "metadata": {
    "_uuid": "e07c28228846bd4e66c5b48da7c03e780a8fe3b1",
    "collapsed": false
   },
   "outputs": [
   ],
   "source": [
    "# Convertendo classificação da coluna Type em binário\n",
    "def type_cat(types):\n",
    "    if types == 'Free':\n",
    "        return 1\n",
    "    else:\n",
    "        return 0\n",
    "\n",
    "df['Type'] = df['Type'].map(type_cat)"
   ]
  },
  {
   "cell_type": "markdown",
   "metadata": {
    "_uuid": "959f4e9f1a9cff3d23be80c4c9faa24394856c02",
    "collapsed": false
   },
   "source": [
    "Conversão da seção de classificação de conteúdo em números inteiros"
   ]
  },
  {
   "cell_type": "code",
   "execution_count": 0,
   "metadata": {
    "_uuid": "80e4fff9a4a343ff09a33280c7c227e0f7ac4a29",
    "collapsed": false
   },
   "outputs": [
   ],
   "source": [
    "# Categorizando a coluna Content Rating\n",
    "\n",
    "le = preprocessing.LabelEncoder()\n",
    "df['Content Rating'] = le.fit_transform(df['Content Rating'])"
   ]
  },
  {
   "cell_type": "markdown",
   "metadata": {
    "_uuid": "255b7a10da4a315b3a27814aef752d7e5e051231",
    "collapsed": false
   },
   "source": [
    "Percebemos que algumas informações não eram necessárias para um algoritmo de aprendizado de máquina"
   ]
  },
  {
   "cell_type": "code",
   "execution_count": 0,
   "metadata": {
    "_uuid": "8c314231e1a178b522549340a5334116faa81c79",
    "collapsed": false
   },
   "outputs": [
   ],
   "source": [
    "# Removendo informações desnecessárias\n",
    "\n",
    "df.drop(labels = ['Last Updated','Current Ver','App'], axis = 1, inplace = True)"
   ]
  },
  {
   "cell_type": "code",
   "execution_count": 0,
   "metadata": {
    "_uuid": "003eadc56ae1dafbf4bd7711eab55fedfdc38a7a",
    "collapsed": false
   },
   "outputs": [
   ],
   "source": [
    "# Categorizando a coluna gênero\n",
    "\n",
    "le = preprocessing.LabelEncoder()\n",
    "df['Genres'] = le.fit_transform(df['Genres'])"
   ]
  },
  {
   "cell_type": "code",
   "execution_count": 0,
   "metadata": {
    "collapsed": false
   },
   "outputs": [
   ],
   "source": [
    "# Categorizando a coluna Android Ver\n",
    "\n",
    "le = preprocessing.LabelEncoder()\n",
    "df['Android Ver'] = le.fit_transform(df['Android Ver'])"
   ]
  },
  {
   "cell_type": "code",
   "execution_count": 0,
   "metadata": {
    "_uuid": "b22f84a0dffa95f13374c68c0d2b62db97732e5d",
    "collapsed": false
   },
   "outputs": [
   ],
   "source": [
    "# Limpando a coluna Price\n",
    "\n",
    "df['Price'] = df['Price'].apply(lambda x : x.strip('$'))"
   ]
  },
  {
   "cell_type": "code",
   "execution_count": 0,
   "metadata": {
    "_uuid": "4482c9f0122cce66acf7a5349b63c81affc31d70",
    "collapsed": false
   },
   "outputs": [
   ],
   "source": [
    "# Converter Reviews em valores inteiros\n",
    "\n",
    "df['Reviews'] = df['Reviews'].astype(int)"
   ]
  },
  {
   "cell_type": "code",
   "execution_count": 0,
   "metadata": {
    "_uuid": "e2b45f9a77c6b8c36a5b224fd76550864e718aad",
    "collapsed": false
   },
   "outputs": [
   ],
   "source": [
    "# Codificação de variável fictícia para Categorias\n",
    "\n",
    "category_list = df['Category'].unique().tolist() \n",
    "category_list = ['Category_' + word for word in category_list]\n",
    "df = pd.concat([df, pd.get_dummies(df['Category'], prefix='Category')], axis=1)"
   ]
  },
  {
   "cell_type": "code",
   "execution_count": 0,
   "metadata": {
    "collapsed": false
   },
   "outputs": [
   ],
   "source": [
    "# Dimensionamento e limpeza do tamanho do atributo de Size (números de instalações)\n",
    "\n",
    "k_indices = df['Size'].loc[df['Size'].str.contains('k')].index.tolist()\n",
    "converter = pd.DataFrame(df.loc[k_indices, 'Size'].apply(lambda x: x.strip('k')).astype(float).apply(lambda x: x / 1024).apply(lambda x: round(x, 3)).astype(str))\n",
    "df.loc[k_indices,'Size'] = converter\n",
    "\n",
    "df['Size'] = df['Size'].apply(lambda x: x.strip('M'))\n",
    "df[df['Size'] == 'Varies with device'] = 0\n",
    "df['Size'] = df['Size'].astype(float)"
   ]
  },
  {
   "cell_type": "code",
   "execution_count": 0,
   "metadata": {
    "collapsed": false
   },
   "outputs": [
   ],
   "source": [
    "# Normalizar colunas necessárias\n",
    "# (-1, 1) if your data has a single feature or array\n",
    "\n",
    "scaler = MinMaxScaler()\n",
    "tmp = np.array(df['Reviews'])\n",
    "reviewsNormalized = scaler.fit_transform(df['Reviews'].astype('float').values.reshape(-1, 1))\n",
    "df['Reviews'] = reviewsNormalized"
   ]
  },
  {
   "cell_type": "code",
   "execution_count": 0,
   "metadata": {
    "collapsed": false,
    "scrolled": true
   },
   "outputs": [
   ],
   "source": [
    "sizeNormalized = scaler.fit_transform(df['Size'].astype('float').values.reshape(-1, 1))\n",
    "df['Size'] = sizeNormalized"
   ]
  },
  {
   "cell_type": "code",
   "execution_count": 0,
   "metadata": {
    "collapsed": false
   },
   "outputs": [
   ],
   "source": [
    "# Categorizando a coluna Installs\n",
    "\n",
    "le = preprocessing.LabelEncoder()\n",
    "df['Installs'] = le.fit_transform(df['Installs'])"
   ]
  },
  {
   "cell_type": "code",
   "execution_count": 0,
   "metadata": {
    "collapsed": false
   },
   "outputs": [
   ],
   "source": [
    "# Pós normalização\n",
    "\n",
    "df.head()"
   ]
  },
  {
   "cell_type": "code",
   "execution_count": 0,
   "metadata": {
    "collapsed": false
   },
   "outputs": [
   ],
   "source": [
    "#  Separando o dataset tratado em features(X) e target(y)\n",
    "\n",
    "features = ['Reviews', 'Size', 'Installs', 'Type', 'Price', 'Content Rating', 'Genres']\n",
    "\n",
    "features.extend(category_list) # Adicionando as colunas dummies\n",
    "X = df[features]\n",
    "y = df['Rating']\n",
    "\n",
    "knnModel = KNeighborsRegressor()\n",
    "\n",
    "param_grid = { 'n_neighbors': [1, 3, 5, 7, 9, 21, 23, 25, 27, 43, 45, 47, 71, 73, 77] }\n",
    "\n",
    "GS_knn = GridSearchCV(estimator = knnModel, param_grid = param_grid, cv = 5)\n",
    "GS_knn.fit(X, y)\n",
    "gs_df = pd.DataFrame(GS_knn.cv_results_)\n",
    "\n",
    "x = gs_df['mean_test_score']\n",
    "y = gs_df['param_n_neighbors']\n",
    "plt.plot(y, x)\n",
    "plt.title('Número n de vizinhos por taxa de acerto')\n",
    "plt.xlabel('N vizinhos')\n",
    "plt.ylabel('score')\n",
    "plt.show()"
   ]
  },
  {
   "cell_type": "code",
   "execution_count": 0,
   "metadata": {
    "collapsed": false
   },
   "outputs": [
   ],
   "source": [
    "X = df[features]\n",
    "y = df['Rating']\n",
    "\n",
    "rfrModel = RandomForestRegressor()\n",
    "\n",
    "param_grid = { 'n_estimators': [5, 10, 15, 20, 30, 40, 50, 100, 200, 400] }\n",
    "\n",
    "GS_rfr = GridSearchCV(estimator = rfrModel, param_grid = param_grid, cv = 5)\n",
    "GS_rfr.fit(X, y)\n",
    "gs_df = pd.DataFrame(GS_rfr.cv_results_)\n",
    "\n",
    "x = gs_df['mean_test_score']\n",
    "y = gs_df['param_n_estimators']\n",
    "plt.plot(y, x)\n",
    "plt.title('Número n de estimadores por taxa de acerto')\n",
    "plt.xlabel('N estimadores')\n",
    "plt.ylabel('score')\n",
    "plt.show()"
   ]
  },
  {
   "cell_type": "code",
   "execution_count": 0,
   "metadata": {
    "collapsed": false
   },
   "outputs": [
   ],
   "source": [
    "X = df[features]\n",
    "y = df['Rating']\n",
    "\n",
    "treeModel = DecisionTreeRegressor()\n",
    "\n",
    "param_grid = { 'max_depth': [2, 4, 6, 8, 14, 22, 30, 36, 42, 56, 60, 68] }\n",
    "\n",
    "GS_tree = GridSearchCV(estimator = treeModel, param_grid = param_grid, cv = 5)\n",
    "GS_tree.fit(X, y)\n",
    "gs_df = pd.DataFrame(GS_tree.cv_results_)\n",
    "\n",
    "x = gs_df['mean_test_score']\n",
    "y = gs_df['param_max_depth']\n",
    "plt.plot(y, x)\n",
    "plt.title('Número de níveis da árvore por taxa de acerto')\n",
    "plt.xlabel('Profundidade máxima da árvore')\n",
    "plt.ylabel('score')\n",
    "plt.show()"
   ]
  },
  {
   "cell_type": "code",
   "execution_count": 0,
   "metadata": {
    "collapsed": false,
    "scrolled": true
   },
   "outputs": [
   ],
   "source": [
    "X = df[features]\n",
    "y = df['Rating']\n",
    "\n",
    "svrModel = SVR(gamma='scale')\n",
    "\n",
    "param_grid = { 'kernel': ['linear', 'rbf', 'poly', 'sigmoid', 'precomputed', 'callable'] }\n",
    "\n",
    "GS_tree = GridSearchCV(estimator = svrModel, param_grid = param_grid, cv = 5)\n",
    "GS_tree.fit(X, y)\n",
    "gs_df = pd.DataFrame(GS_tree.cv_results_)\n",
    "\n",
    "x = gs_df['mean_test_score']\n",
    "y = gs_df['param_kernel']\n",
    "plt.plot(y, x)\n",
    "plt.title('Tipo de kernel por taxa de acerto')\n",
    "plt.xlabel('kernel')\n",
    "plt.ylabel('score')\n",
    "plt.show()"
   ]
  },
  {
   "cell_type": "code",
   "execution_count": 0,
   "metadata": {
    "collapsed": false
   },
   "outputs": [
   ],
   "source": [
    "# Inicializando modelos\n",
    "knnModel = KNeighborsRegressor(n_neighbors = 15)\n",
    "knnScores = []\n",
    "\n",
    "svrModel = SVR(gamma='scale')\n",
    "svrScores = []\n",
    "\n",
    "decitionTreeModel = DecisionTreeRegressor()\n",
    "decitionTreeScores = []\n",
    "\n",
    "rfrModel = RandomForestRegressor(n_estimators=300)\n",
    "rfrScores = []\n",
    "\n",
    "# Separando em dado de treino e dado de teste, utilizando o KFold\n",
    "kf = KFold(n_splits = 20, shuffle = True, random_state = 42)\n",
    "\n",
    "for train_index, test_index in kf.split(X):\n",
    "    X_train, X_test = X.iloc[train_index], X.iloc[test_index]\n",
    "    y_train, y_test = y.iloc[train_index], y.iloc[test_index]\n",
    "\n",
    "    #knn\n",
    "    knnModel.fit(X_train, y_train)\n",
    "    knnScores.append(knnModel.score(X_test, y_test))\n",
    "\n",
    "    #svr\n",
    "    svrModel.fit(X_train, y_train)\n",
    "    svrScores.append(svrModel.score(X_test, y_test))\n",
    "    \n",
    "    #decition tree\n",
    "    decitionTreeModel.fit(X_train, y_train)\n",
    "    decitionTreeScores.append(decitionTreeModel.score(X_test, y_test))\n",
    "\n",
    "    #random forest regressor\n",
    "    rfrModel.fit(X_train, y_train)\n",
    "    rfrScores.append(rfrModel.score(X_test, y_test))\n",
    "    \n",
    "\n",
    "print('média k-nn: ', np.mean(knnScores))\n",
    "print('média svr: ', np.mean(svrScores))\n",
    "print('média decision trees: ', np.mean(decitionTreeScores))\n",
    "print('média random forest: ', np.mean(rfrScores))"
   ]
  }
 ],
 "metadata": {
  "kernelspec": {
   "display_name": "Python 3 (Ubuntu Linux)",
   "language": "python",
   "metadata": {
    "cocalc": {
     "description": "Python 3 programming language",
     "priority": 100,
     "url": "https://www.python.org/"
    }
   },
   "name": "python3"
  },
  "language_info": {
   "codemirror_mode": {
    "name": "ipython",
    "version": 3
   },
   "file_extension": ".py",
   "mimetype": "text/x-python",
   "name": "python",
   "nbconvert_exporter": "python",
   "pygments_lexer": "ipython3",
   "version": "3.6.7"
  }
 },
 "nbformat": 4,
 "nbformat_minor": 0
}